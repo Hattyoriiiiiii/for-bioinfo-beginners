{
  "nbformat": 4,
  "nbformat_minor": 0,
  "metadata": {
    "colab": {
      "name": "20220705_bioinfo1.ipynb",
      "provenance": [],
      "private_outputs": true,
      "toc_visible": true,
      "authorship_tag": "ABX9TyPIYoDN/qkOKZ7E+y6e10ol",
      "include_colab_link": true
    },
    "kernelspec": {
      "name": "python3",
      "display_name": "Python 3"
    },
    "language_info": {
      "name": "python"
    },
    "gpuClass": "standard"
  },
  "cells": [
    {
      "cell_type": "markdown",
      "metadata": {
        "id": "view-in-github",
        "colab_type": "text"
      },
      "source": [
        "<a href=\"https://colab.research.google.com/github/Hattyoriiiiiii/for-bioinfo-beginners/blob/main/20220705_bioinfo1.ipynb\" target=\"_parent\"><img src=\"https://colab.research.google.com/assets/colab-badge.svg\" alt=\"Open In Colab\"/></a>"
      ]
    },
    {
      "cell_type": "code",
      "execution_count": null,
      "metadata": {
        "id": "tWw3m3or6UpV"
      },
      "outputs": [],
      "source": [
        "# 何かをここに書く\n",
        "\n",
        "mark = 1\n",
        "turn = 3\n",
        "\n",
        "for i in range(turn):\n",
        "    if mark == 1:\n",
        "        print(\"★\")\n",
        "    else:\n",
        "        print(\"☆\")"
      ]
    },
    {
      "cell_type": "markdown",
      "source": [
        "## 四則演算 (Ex1, Ex2)"
      ],
      "metadata": {
        "id": "loRxpQXnijec"
      }
    },
    {
      "cell_type": "code",
      "source": [
        "# Ex1\n",
        "x = 0\n",
        "a = 6\n",
        "b = 2\n",
        "\n",
        "for i in range(1, a + 1):\n",
        "    x += b\n",
        "\n",
        "print(x)"
      ],
      "metadata": {
        "id": "rweBKOzdvSib"
      },
      "execution_count": null,
      "outputs": []
    },
    {
      "cell_type": "code",
      "source": [
        "# Ex2\n",
        "x = 0\n",
        "a = 0\n",
        "\n",
        "while a < 10:\n",
        "    if a % 2 == 0:\n",
        "        x += a\n",
        "    a += 1\n",
        "\n",
        "print(f\"a = {a}, x = {x}\")"
      ],
      "metadata": {
        "id": "8F5aGtNrvXdC"
      },
      "execution_count": null,
      "outputs": []
    },
    {
      "cell_type": "markdown",
      "source": [
        "## 配列配列 (Ex3)"
      ],
      "metadata": {
        "id": "LxU9dTKCio7d"
      }
    },
    {
      "cell_type": "code",
      "source": [
        "# Ex3\n",
        "array = [56, 23, 10, 97, 51, 70, 9, 32, 12, 43]\n",
        "\n",
        "\n",
        "\n",
        "##### Ans. 1\n",
        "total = 0\n",
        "\n",
        "for i in array:\n",
        "    total += i\n",
        "\n",
        "print(total)\n",
        "\n",
        "\n",
        "##### Ans. 2\n",
        "total = 0\n",
        "n = len(array)\n",
        "\n",
        "for i in range(n):\n",
        "    total += array[i]\n",
        "\n",
        "print(total)\n",
        "\n",
        "\n",
        "##### Ans. 3\n",
        "print(sum(array))"
      ],
      "metadata": {
        "id": "7bE-NnDPwC45"
      },
      "execution_count": null,
      "outputs": []
    },
    {
      "cell_type": "markdown",
      "source": [
        "## GC ratio"
      ],
      "metadata": {
        "id": "8jljrdRSnlZj"
      }
    },
    {
      "cell_type": "code",
      "source": [
        "seq = \"AGCTCGTACGTCATCATACCA\""
      ],
      "metadata": {
        "id": "iy0pKJNJnvXg"
      },
      "execution_count": null,
      "outputs": []
    },
    {
      "cell_type": "code",
      "source": [
        "##### Ans. 1\n",
        "cnt = 0\n",
        "total = 0\n",
        "\n",
        "for base in seq:\n",
        "    if base in \"GC\":\n",
        "        cnt += 1\n",
        "    total += 1\n",
        "\n",
        "ratio_gc = cnt / total\n",
        "print(f\"{ratio_gc:.3f}\")\n",
        "\n",
        "\n",
        "##### Ans. 2\n",
        "cnt = 0\n",
        "\n",
        "for base in seq:\n",
        "    if base in \"GC\":\n",
        "        cnt += 1\n",
        "\n",
        "ratio_gc = cnt / len(seq)\n",
        "print(f\"{ratio_gc:.3f}\")\n",
        "\n",
        "\n",
        "##### Ans. 3\n",
        "cnt = 0\n",
        "\n",
        "for base in seq:\n",
        "    if base == \"G\" or base == \"C\":\n",
        "        cnt += 1\n",
        "\n",
        "ratio_gc = cnt / len(seq)\n",
        "print(f\"{ratio_gc:.3f}\")"
      ],
      "metadata": {
        "id": "EAe1aQeUwsCr"
      },
      "execution_count": null,
      "outputs": []
    },
    {
      "cell_type": "code",
      "source": [
        "\n",
        "cnt = 0\n",
        "for base in seq.upper():\n",
        "    if base in \"GC\":\n",
        "        cnt += 1\n",
        "print(cnt / len(seq))"
      ],
      "metadata": {
        "id": "3Zb0CEiiyxR_"
      },
      "execution_count": null,
      "outputs": []
    },
    {
      "cell_type": "code",
      "source": [
        "n = len(seq)\n",
        "cnt_gc = 0\n",
        "cnt_g = 0\n",
        "cnt_c = 0\n",
        "\n",
        "for base in seq.upper():\n",
        "    if base in \"G\":\n",
        "        cnt_g += 1\n",
        "    elif base in \"C\":\n",
        "        cnt_c += 1\n",
        "\n",
        "ratio_g = cnt_g / n\n",
        "ratio_c = cnt_c / n\n",
        "ratio_gc = (cnt_g + cnt_c) / n\n",
        "\n",
        "percent_g = ratio_g * 100\n",
        "percent_c = ratio_c * 100\n",
        "percent_gc = (ratio_g + ratio_c) * 100\n",
        "\n",
        "print(f\"GC   : {ratio_gc:.3f} (-> G: {ratio_g:.3f}, C: {ratio_c:.3f})\")\n",
        "print(f\"GC(%): {percent_gc:.1f}  (-> G: {percent_g:.1f}%, C: {percent_c:.1f}%)\")"
      ],
      "metadata": {
        "id": "-lVBBg5My9P4"
      },
      "execution_count": null,
      "outputs": []
    },
    {
      "cell_type": "markdown",
      "source": [
        "## Bubble sort"
      ],
      "metadata": {
        "id": "PsO3fjrhiv1_"
      }
    },
    {
      "cell_type": "code",
      "source": [
        "data = [23, 15, 64, 23, 42, 12, 92]\n",
        "\n",
        "n = len(data)\n",
        "print(f\"ソート前: {data}\")\n",
        "\n",
        "# 降順 ([12, 15, 23, 23, 42, 64, 92])\n",
        "for i in range(0, n-1):\n",
        "    for j in range(n-1, i, -1):\n",
        "        if data[j-1] > data[j]:\n",
        "            data[j], data[j-1] = data[j-1], data[j]\n",
        "\n",
        "print(f\"ソート後: {data}\")"
      ],
      "metadata": {
        "id": "jc6E2H8-ixMZ"
      },
      "execution_count": null,
      "outputs": []
    },
    {
      "cell_type": "code",
      "source": [
        ""
      ],
      "metadata": {
        "id": "57x1x5XOjB9t"
      },
      "execution_count": null,
      "outputs": []
    }
  ]
}